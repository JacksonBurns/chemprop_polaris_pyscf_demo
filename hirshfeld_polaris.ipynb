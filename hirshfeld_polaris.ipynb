{
    "cells": [
        {
            "cell_type": "markdown",
            "metadata": {},
            "source": [
                "# Chemprop v2 PySCF + Polaris Demo\n",
                "\n",
                "This demo shows how to integrate Chemprop v2 with PySCF and Polaris to drive predictions using on-the-fly quantum chemistry calculations.\n",
                "Check the associated files in this repo for examples of implementing your own featurizers and molecule generators!"
            ]
        },
        {
            "cell_type": "markdown",
            "metadata": {},
            "source": [
                "Polaris makes it easy to access data - in this case we'll retrieve some Rat Plasma Protein Binding data and randomly select some of it to use for early stopping:"
            ]
        },
        {
            "cell_type": "code",
            "execution_count": 23,
            "metadata": {},
            "outputs": [],
            "source": [
                "%%capture\n",
                "import polaris as po\n",
                "\n",
                "benchmark = po.load_benchmark(\"polaris/adme-fang-rppb-1\")\n",
                "train, test = benchmark.get_train_test_split()\n",
                "train_df, test_df = train.as_dataframe(), test.as_dataframe()\n",
                "val_df = train_df.sample(frac=0.2, random_state=42)\n",
                "train_df = train_df[~train_df.index.isin(val_df.index)]\n",
                "smiles_column = list(benchmark.input_cols)[0]\n",
                "target_column = [list(benchmark.target_cols)[0]]"
            ]
        },
        {
            "cell_type": "markdown",
            "metadata": {},
            "source": [
                "Now we want to convert these to `rdkit` molecules.\n",
                "We can wrap the Chemprop function `make_mol` to handle on-the-fly execution of PySCF simulations, which we then access later on:"
            ]
        },
        {
            "cell_type": "code",
            "execution_count": 24,
            "metadata": {},
            "outputs": [],
            "source": [
                "from make_hirshfeld_mol import make_hirshfeld_mol\n",
                "from tqdm import tqdm"
            ]
        },
        {
            "cell_type": "code",
            "execution_count": 25,
            "metadata": {},
            "outputs": [
                {
                    "name": "stderr",
                    "output_type": "stream",
                    "text": [
                        "100%|██████████| 24/24 [00:00<00:00, 4519.93it/s]\n",
                        "100%|██████████| 89/89 [00:00<00:00, 4935.58it/s]\n",
                        "100%|██████████| 89/89 [00:00<00:00, 4617.45it/s]\n"
                    ]
                }
            ],
            "source": [
                "test_mols = []\n",
                "for smi in tqdm(test_df[smiles_column]):\n",
                "    test_mols.append(make_hirshfeld_mol(smi, use_gpu=True))\n",
                "val_mols = []\n",
                "for smi in tqdm(train_df[smiles_column]):\n",
                "    val_mols.append(make_hirshfeld_mol(smi, use_gpu=True))\n",
                "train_mols = []\n",
                "for smi in tqdm(train_df[smiles_column]):\n",
                "    train_mols.append(make_hirshfeld_mol(smi, use_gpu=True))"
            ]
        },
        {
            "cell_type": "code",
            "execution_count": 26,
            "metadata": {},
            "outputs": [],
            "source": [
                "import numpy as np"
            ]
        },
        {
            "cell_type": "code",
            "execution_count": 27,
            "metadata": {},
            "outputs": [],
            "source": [
                "from lightning import pytorch as pl\n",
                "from lightning.pytorch.callbacks import ModelCheckpoint, EarlyStopping\n",
                "\n",
                "from chemprop import data, featurizers, models, nn"
            ]
        },
        {
            "cell_type": "markdown",
            "metadata": {},
            "source": [
                "Chemprop v2 makes it easy to add further features to your molecule.\n",
                "In this case I show how to add Hirshfeld charges (and other properties) to the atoms both before and after message passing.\n",
                "First, we'll add the atom features as `V_f` to each molecule so that they are added _after_ message passing:"
            ]
        },
        {
            "cell_type": "code",
            "execution_count": 28,
            "metadata": {},
            "outputs": [],
            "source": [
                "train_data = [data.MoleculeDatapoint(\n",
                "        mol=mol,\n",
                "        y=y,\n",
                "        V_f=np.array([\n",
                "            [a.GetDoubleProp(\"charge_eff\"),\n",
                "             np.sqrt(a.GetDoubleProp(\"dipole_eff_x\")**2 + a.GetDoubleProp(\"dipole_eff_y\")**2 + a.GetDoubleProp(\"dipole_eff_z\")**2), a.GetDoubleProp(\"V_eff\"),\n",
                "             a.GetDoubleProp(\"V_free\"),\n",
                "             a.GetDoubleProp(\"V_eff\") / a.GetDoubleProp(\"V_free\")]\n",
                "             for a in mol.GetAtoms()]),\n",
                "    )\n",
                "    for mol, y in zip(train_mols, train_df[target_column].values)]\n",
                "val_data = [data.MoleculeDatapoint(\n",
                "        mol=mol,\n",
                "        y=y,\n",
                "        V_f=np.array([\n",
                "            [a.GetDoubleProp(\"charge_eff\"),\n",
                "             np.sqrt(a.GetDoubleProp(\"dipole_eff_x\")**2 + a.GetDoubleProp(\"dipole_eff_y\")**2 + a.GetDoubleProp(\"dipole_eff_z\")**2), a.GetDoubleProp(\"V_eff\"),\n",
                "             a.GetDoubleProp(\"V_free\"),\n",
                "             a.GetDoubleProp(\"V_eff\") / a.GetDoubleProp(\"V_free\")]\n",
                "             for a in mol.GetAtoms()]),\n",
                "    )\n",
                "    for mol, y in zip(val_mols, val_df[target_column].values)]\n",
                "test_data = [data.MoleculeDatapoint(\n",
                "        mol=mol,\n",
                "        V_f=np.array([\n",
                "            [a.GetDoubleProp(\"charge_eff\"),\n",
                "             np.sqrt(a.GetDoubleProp(\"dipole_eff_x\")**2 + a.GetDoubleProp(\"dipole_eff_y\")**2 + a.GetDoubleProp(\"dipole_eff_z\")**2), a.GetDoubleProp(\"V_eff\"),\n",
                "             a.GetDoubleProp(\"V_free\"),\n",
                "             a.GetDoubleProp(\"V_eff\") / a.GetDoubleProp(\"V_free\")]\n",
                "             for a in mol.GetAtoms()]),\n",
                "    ) for mol in test_mols]"
            ]
        },
        {
            "cell_type": "markdown",
            "metadata": {},
            "source": [
                "And then we'll use our custom Atom Featurizer to include them _before_ messaging passing as well:"
            ]
        },
        {
            "cell_type": "code",
            "execution_count": 29,
            "metadata": {},
            "outputs": [],
            "source": [
                "from hirshfeld_featurizer import HirshfeldAtomFeaturizer\n",
                "from chemprop.featurizers.atom import MultiHotAtomFeaturizer\n",
                "from chemprop.featurizers.bond import RIGRBondFeaturizer\n",
                "\n",
                "from chemprop.nn.transforms import ScaleTransform, GraphTransform"
            ]
        },
        {
            "cell_type": "code",
            "execution_count": 30,
            "metadata": {},
            "outputs": [],
            "source": [
                "atom_featurizer = HirshfeldAtomFeaturizer()  # can easily drop in MultiHotAtomFeaturizer.v2() here\n",
                "bond_featurizer = RIGRBondFeaturizer()\n",
                "featurizer = featurizers.SimpleMoleculeMolGraphFeaturizer(\n",
                "    atom_featurizer=atom_featurizer,\n",
                "    bond_featurizer=bond_featurizer,\n",
                "    extra_atom_fdim=5,\n",
                "    extra_bond_fdim=0,\n",
                ")\n",
                "\n",
                "train_dset = data.MoleculeDataset(train_data, featurizer)\n",
                "val_dset = data.MoleculeDataset(val_data, featurizer)\n",
                "test_dset = data.MoleculeDataset(test_data, featurizer)\n",
                "\n",
                "target_scaler = train_dset.normalize_targets()\n",
                "val_dset.normalize_targets(target_scaler)\n",
                "\n",
                "output_transform = nn.UnscaleTransform.from_standard_scaler(target_scaler)\n",
                "\n",
                "extra_atom_features_scaler = train_dset.normalize_inputs(\"V_f\")\n",
                "val_dset.normalize_inputs(\"V_f\", extra_atom_features_scaler)\n",
                "\n",
                "train_dset.cache = True\n",
                "val_dset.cache = True"
            ]
        },
        {
            "cell_type": "markdown",
            "metadata": {},
            "source": [
                "From here on out we can follow conventional Chemprop training!\n",
                "Chemprop v2 uses `lightning`, so the handling of GPUs, parallelism, and early stopping are all fully automated and highly reliable."
            ]
        },
        {
            "cell_type": "code",
            "execution_count": 31,
            "metadata": {},
            "outputs": [],
            "source": [
                "train_loader = data.build_dataloader(train_dset, batch_size=32)\n",
                "val_loader = data.build_dataloader(val_dset, shuffle=False)\n",
                "test_loader = data.build_dataloader(test_dset, shuffle=False)"
            ]
        },
        {
            "cell_type": "code",
            "execution_count": 32,
            "metadata": {},
            "outputs": [],
            "source": [
                "import torch"
            ]
        },
        {
            "cell_type": "code",
            "execution_count": 33,
            "metadata": {},
            "outputs": [],
            "source": [
                "n_V_features = featurizer.atom_fdim - featurizer.extra_atom_fdim\n",
                "n_E_features = featurizer.bond_fdim - featurizer.extra_bond_fdim\n",
                "\n",
                "V_f_transform = nn.ScaleTransform.from_standard_scaler(extra_atom_features_scaler, pad=n_V_features)\n",
                "graph_transform = nn.GraphTransform(V_f_transform, torch.nn.Identity())\n"
            ]
        },
        {
            "cell_type": "code",
            "execution_count": 34,
            "metadata": {},
            "outputs": [],
            "source": [
                "mp = nn.BondMessagePassing(\n",
                "    d_v=featurizer.atom_fdim,\n",
                "    d_e=featurizer.bond_fdim,\n",
                "    d_h=64,\n",
                "    depth=3,\n",
                "    activation=\"leakyrelu\",\n",
                "    dropout=0.50,\n",
                "    graph_transform=graph_transform,\n",
                ")"
            ]
        },
        {
            "cell_type": "code",
            "execution_count": 35,
            "metadata": {},
            "outputs": [],
            "source": [
                "agg = nn.NormAggregation()"
            ]
        },
        {
            "cell_type": "code",
            "execution_count": 36,
            "metadata": {},
            "outputs": [],
            "source": [
                "ffn = nn.RegressionFFN(input_dim=mp.output_dim, hidden_dim=mp.output_dim, activation=\"leakyrelu\", output_transform=output_transform, n_layers=2, dropout=0.50)"
            ]
        },
        {
            "cell_type": "code",
            "execution_count": 37,
            "metadata": {},
            "outputs": [],
            "source": [
                "metric_list = [nn.metrics.MSE(), nn.metrics.RMSE(), nn.metrics.MAE()] # Only the first metric is used for training and early stopping"
            ]
        },
        {
            "cell_type": "code",
            "execution_count": 38,
            "metadata": {},
            "outputs": [
                {
                    "data": {
                        "text/plain": [
                            "MPNN(\n",
                            "  (message_passing): BondMessagePassing(\n",
                            "    (W_i): Linear(in_features=15, out_features=64, bias=False)\n",
                            "    (W_h): Linear(in_features=64, out_features=64, bias=False)\n",
                            "    (W_o): Linear(in_features=77, out_features=64, bias=True)\n",
                            "    (dropout): Dropout(p=0.5, inplace=False)\n",
                            "    (tau): LeakyReLU(negative_slope=0.1)\n",
                            "    (V_d_transform): Identity()\n",
                            "    (graph_transform): GraphTransform(\n",
                            "      (V_transform): ScaleTransform()\n",
                            "      (E_transform): Identity()\n",
                            "    )\n",
                            "  )\n",
                            "  (agg): NormAggregation()\n",
                            "  (bn): BatchNorm1d(64, eps=1e-05, momentum=0.1, affine=True, track_running_stats=True)\n",
                            "  (predictor): RegressionFFN(\n",
                            "    (ffn): MLP(\n",
                            "      (0): Sequential(\n",
                            "        (0): Linear(in_features=64, out_features=64, bias=True)\n",
                            "      )\n",
                            "      (1): Sequential(\n",
                            "        (0): LeakyReLU(negative_slope=0.1)\n",
                            "        (1): Dropout(p=0.5, inplace=False)\n",
                            "        (2): Linear(in_features=64, out_features=64, bias=True)\n",
                            "      )\n",
                            "      (2): Sequential(\n",
                            "        (0): LeakyReLU(negative_slope=0.1)\n",
                            "        (1): Dropout(p=0.5, inplace=False)\n",
                            "        (2): Linear(in_features=64, out_features=1, bias=True)\n",
                            "      )\n",
                            "    )\n",
                            "    (criterion): MSE(task_weights=[[1.0]])\n",
                            "    (output_transform): UnscaleTransform()\n",
                            "  )\n",
                            "  (X_d_transform): Identity()\n",
                            "  (metrics): ModuleList(\n",
                            "    (0): MSE(task_weights=[[1.0]])\n",
                            "    (1): RMSE(task_weights=[[1.0]])\n",
                            "    (2): MAE(task_weights=[[1.0]])\n",
                            "    (3): MSE(task_weights=[[1.0]])\n",
                            "  )\n",
                            ")"
                        ]
                    },
                    "execution_count": 38,
                    "metadata": {},
                    "output_type": "execute_result"
                }
            ],
            "source": [
                "mpnn = models.MPNN(mp, agg, ffn, True, metric_list)\n",
                "mpnn"
            ]
        },
        {
            "cell_type": "code",
            "execution_count": 39,
            "metadata": {},
            "outputs": [
                {
                    "name": "stderr",
                    "output_type": "stream",
                    "text": [
                        "GPU available: True (cuda), used: True\n",
                        "TPU available: False, using: 0 TPU cores\n",
                        "HPU available: False, using: 0 HPUs\n"
                    ]
                }
            ],
            "source": [
                "# Configure model checkpointing\n",
                "checkpointing = ModelCheckpoint(\n",
                "    \"checkpoints\",  # Directory where model checkpoints will be saved\n",
                "    \"best-{epoch}-{val_loss:.2f}\",  # Filename format for checkpoints, including epoch and validation loss\n",
                "    \"val_loss\",  # Metric used to select the best checkpoint (based on validation loss)\n",
                "    mode=\"min\",  # Save the checkpoint with the lowest validation loss (minimization objective)\n",
                "    save_last=True,  # Always save the most recent checkpoint, even if it's not the best\n",
                ")\n",
                "early_stopping = EarlyStopping(\n",
                "    \"val_loss\",\n",
                "    patience=10,\n",
                ")\n",
                "trainer = pl.Trainer(\n",
                "    logger=False,\n",
                "    enable_checkpointing=True, # Use `True` if you want to save model checkpoints. The checkpoints will be saved in the `checkpoints` folder.\n",
                "    enable_progress_bar=True,\n",
                "    accelerator=\"auto\",\n",
                "    devices=1,\n",
                "    max_epochs=100, # number of epochs to train for\n",
                "    callbacks=[checkpointing, early_stopping], # Use the configured checkpoint callback\n",
                ")"
            ]
        },
        {
            "cell_type": "code",
            "execution_count": 40,
            "metadata": {},
            "outputs": [
                {
                    "name": "stderr",
                    "output_type": "stream",
                    "text": [
                        "/home/jackson/miniforge3/envs/hirshfeld/lib/python3.12/site-packages/lightning/pytorch/callbacks/model_checkpoint.py:751: Checkpoint directory /home/jackson/chemprop_polaris_pyscf_demo/checkpoints exists and is not empty.\n",
                        "LOCAL_RANK: 0 - CUDA_VISIBLE_DEVICES: [0]\n",
                        "Loading `train_dataloader` to estimate number of stepping batches.\n",
                        "/home/jackson/miniforge3/envs/hirshfeld/lib/python3.12/site-packages/lightning/pytorch/trainer/connectors/data_connector.py:433: The 'train_dataloader' does not have many workers which may be a bottleneck. Consider increasing the value of the `num_workers` argument` to `num_workers=15` in the `DataLoader` to improve performance.\n",
                        "\n",
                        "  | Name            | Type               | Params | Mode \n",
                        "---------------------------------------------------------------\n",
                        "0 | message_passing | BondMessagePassing | 10.0 K | train\n",
                        "1 | agg             | NormAggregation    | 0      | train\n",
                        "2 | bn              | BatchNorm1d        | 128    | train\n",
                        "3 | predictor       | RegressionFFN      | 8.4 K  | train\n",
                        "4 | X_d_transform   | Identity           | 0      | train\n",
                        "5 | metrics         | ModuleList         | 0      | train\n",
                        "---------------------------------------------------------------\n",
                        "18.6 K    Trainable params\n",
                        "0         Non-trainable params\n",
                        "18.6 K    Total params\n",
                        "0.074     Total estimated model params size (MB)\n",
                        "30        Modules in train mode\n",
                        "0         Modules in eval mode\n"
                    ]
                },
                {
                    "name": "stdout",
                    "output_type": "stream",
                    "text": [
                        "                                                                            "
                    ]
                },
                {
                    "name": "stderr",
                    "output_type": "stream",
                    "text": [
                        "/home/jackson/miniforge3/envs/hirshfeld/lib/python3.12/site-packages/lightning/pytorch/trainer/connectors/data_connector.py:433: The 'val_dataloader' does not have many workers which may be a bottleneck. Consider increasing the value of the `num_workers` argument` to `num_workers=15` in the `DataLoader` to improve performance.\n"
                    ]
                },
                {
                    "name": "stdout",
                    "output_type": "stream",
                    "text": [
                        "Epoch 27: 100%|██████████| 3/3 [00:00<00:00, 94.57it/s, train_loss_step=0.848, val_loss=0.891, train_loss_epoch=0.814] \n"
                    ]
                }
            ],
            "source": [
                "trainer.fit(mpnn, train_loader, val_loader)"
            ]
        },
        {
            "cell_type": "code",
            "execution_count": 41,
            "metadata": {},
            "outputs": [],
            "source": [
                "mpnn = mpnn.load_from_checkpoint(trainer.checkpoint_callback.best_model_path)"
            ]
        },
        {
            "cell_type": "code",
            "execution_count": 42,
            "metadata": {},
            "outputs": [
                {
                    "name": "stderr",
                    "output_type": "stream",
                    "text": [
                        "LOCAL_RANK: 0 - CUDA_VISIBLE_DEVICES: [0]\n",
                        "/home/jackson/miniforge3/envs/hirshfeld/lib/python3.12/site-packages/lightning/pytorch/trainer/connectors/data_connector.py:433: The 'predict_dataloader' does not have many workers which may be a bottleneck. Consider increasing the value of the `num_workers` argument` to `num_workers=15` in the `DataLoader` to improve performance.\n"
                    ]
                },
                {
                    "name": "stdout",
                    "output_type": "stream",
                    "text": [
                        "Predicting DataLoader 0: 100%|██████████| 1/1 [00:00<00:00, 404.35it/s]\n"
                    ]
                }
            ],
            "source": [
                "predictions = torch.cat(trainer.predict(mpnn, test_loader)).flatten()"
            ]
        },
        {
            "cell_type": "code",
            "execution_count": 43,
            "metadata": {},
            "outputs": [
                {
                    "data": {
                        "application/vnd.microsoft.datawrangler.viewer.v0+json": {
                            "columns": [
                                {
                                    "name": "index",
                                    "rawType": "int64",
                                    "type": "integer"
                                },
                                {
                                    "name": "Test set",
                                    "rawType": "object",
                                    "type": "string"
                                },
                                {
                                    "name": "Target label",
                                    "rawType": "object",
                                    "type": "string"
                                },
                                {
                                    "name": "Metric",
                                    "rawType": "object",
                                    "type": "string"
                                },
                                {
                                    "name": "Score",
                                    "rawType": "float64",
                                    "type": "float"
                                }
                            ],
                            "ref": "c641c247-fac4-45e9-bba7-096e8cacf870",
                            "rows": [
                                [
                                    "0",
                                    "test",
                                    "LOG_RPPB",
                                    "spearmanr",
                                    "0.6730434782608695"
                                ],
                                [
                                    "1",
                                    "test",
                                    "LOG_RPPB",
                                    "pearsonr",
                                    "0.6432087701162879"
                                ],
                                [
                                    "2",
                                    "test",
                                    "LOG_RPPB",
                                    "r2",
                                    "0.18843507739745569"
                                ],
                                [
                                    "3",
                                    "test",
                                    "LOG_RPPB",
                                    "explained_var",
                                    "0.1884610610623466"
                                ],
                                [
                                    "4",
                                    "test",
                                    "LOG_RPPB",
                                    "mean_absolute_error",
                                    "0.6913823158140463"
                                ],
                                [
                                    "5",
                                    "test",
                                    "LOG_RPPB",
                                    "mean_squared_error",
                                    "0.721060813532786"
                                ]
                            ],
                            "shape": {
                                "columns": 4,
                                "rows": 6
                            }
                        },
                        "text/html": [
                            "<div>\n",
                            "<style scoped>\n",
                            "    .dataframe tbody tr th:only-of-type {\n",
                            "        vertical-align: middle;\n",
                            "    }\n",
                            "\n",
                            "    .dataframe tbody tr th {\n",
                            "        vertical-align: top;\n",
                            "    }\n",
                            "\n",
                            "    .dataframe thead th {\n",
                            "        text-align: right;\n",
                            "    }\n",
                            "</style>\n",
                            "<table border=\"1\" class=\"dataframe\">\n",
                            "  <thead>\n",
                            "    <tr style=\"text-align: right;\">\n",
                            "      <th></th>\n",
                            "      <th>Test set</th>\n",
                            "      <th>Target label</th>\n",
                            "      <th>Metric</th>\n",
                            "      <th>Score</th>\n",
                            "    </tr>\n",
                            "  </thead>\n",
                            "  <tbody>\n",
                            "    <tr>\n",
                            "      <th>0</th>\n",
                            "      <td>test</td>\n",
                            "      <td>LOG_RPPB</td>\n",
                            "      <td>spearmanr</td>\n",
                            "      <td>0.673043</td>\n",
                            "    </tr>\n",
                            "    <tr>\n",
                            "      <th>1</th>\n",
                            "      <td>test</td>\n",
                            "      <td>LOG_RPPB</td>\n",
                            "      <td>pearsonr</td>\n",
                            "      <td>0.643209</td>\n",
                            "    </tr>\n",
                            "    <tr>\n",
                            "      <th>2</th>\n",
                            "      <td>test</td>\n",
                            "      <td>LOG_RPPB</td>\n",
                            "      <td>r2</td>\n",
                            "      <td>0.188435</td>\n",
                            "    </tr>\n",
                            "    <tr>\n",
                            "      <th>3</th>\n",
                            "      <td>test</td>\n",
                            "      <td>LOG_RPPB</td>\n",
                            "      <td>explained_var</td>\n",
                            "      <td>0.188461</td>\n",
                            "    </tr>\n",
                            "    <tr>\n",
                            "      <th>4</th>\n",
                            "      <td>test</td>\n",
                            "      <td>LOG_RPPB</td>\n",
                            "      <td>mean_absolute_error</td>\n",
                            "      <td>0.691382</td>\n",
                            "    </tr>\n",
                            "    <tr>\n",
                            "      <th>5</th>\n",
                            "      <td>test</td>\n",
                            "      <td>LOG_RPPB</td>\n",
                            "      <td>mean_squared_error</td>\n",
                            "      <td>0.721061</td>\n",
                            "    </tr>\n",
                            "  </tbody>\n",
                            "</table>\n",
                            "</div>"
                        ],
                        "text/plain": [
                            "  Test set Target label               Metric     Score\n",
                            "0     test     LOG_RPPB            spearmanr  0.673043\n",
                            "1     test     LOG_RPPB             pearsonr  0.643209\n",
                            "2     test     LOG_RPPB                   r2  0.188435\n",
                            "3     test     LOG_RPPB        explained_var  0.188461\n",
                            "4     test     LOG_RPPB  mean_absolute_error  0.691382\n",
                            "5     test     LOG_RPPB   mean_squared_error  0.721061"
                        ]
                    },
                    "execution_count": 43,
                    "metadata": {},
                    "output_type": "execute_result"
                }
            ],
            "source": [
                "benchmark.evaluate(predictions).results"
            ]
        }
    ],
    "metadata": {
        "kernelspec": {
            "display_name": "hirshfeld",
            "language": "python",
            "name": "python3"
        },
        "language_info": {
            "codemirror_mode": {
                "name": "ipython",
                "version": 3
            },
            "file_extension": ".py",
            "mimetype": "text/x-python",
            "name": "python",
            "nbconvert_exporter": "python",
            "pygments_lexer": "ipython3",
            "version": "3.12.11"
        },
        "orig_nbformat": 4
    },
    "nbformat": 4,
    "nbformat_minor": 2
}
